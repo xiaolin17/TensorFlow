{
 "cells": [
  {
   "cell_type": "code",
   "execution_count": 1,
   "metadata": {},
   "outputs": [],
   "source": [
    "import matplotlib.pyplot as plt\n",
    "%matplotlib inline\n",
    "import tensorflow as tf\n",
    "import os\n",
    "import pandas as pd\n",
    "import numpy as np\n",
    "import urllib.request\n",
    "import tarfile\n",
    "from tensorflow.keras import layers,datasets,models "
   ]
  },
  {
   "cell_type": "code",
   "execution_count": null,
   "metadata": {},
   "outputs": [],
   "source": []
  },
  {
   "cell_type": "code",
   "execution_count": null,
   "metadata": {},
   "outputs": [],
   "source": [
    "#下载\n",
    "url='https://www.cs.toronto.edu/~kriz/cifar-100-python.tar.gz'\n",
    "filepath='c:/users/yanhe/.keras/datasets/cifar-100-python.tar.gz'\n",
    "if not os.path.isfile(filepath):\n",
    "    result=urllib.request.urlretrieve(url,filepath)\n",
    "    print('downloaded:',result)\n",
    "else:\n",
    "    print('data file already exist')\n",
    "#解压\n",
    "if not os.path.exists(\"c:/users/yanhe/.keras/datasets/cifar-100-batches-py\"):\n",
    "    tfile=tarfile.open(\"c:/users/yanhe/.keras/datasets/cifar-100-python.tar.gz\",'r:gz')\n",
    "    result=tfile.extractall('c:/users/yanhe/.keras/datasets')\n",
    "    print('Extracted to c:/users/yanhe/.keras/datasets/cifar-100-batches-py')\n",
    "else:\n",
    "    print('Directory already exists.')\n"
   ]
  },
  {
   "cell_type": "code",
   "execution_count": 2,
   "metadata": {},
   "outputs": [],
   "source": [
    "#载入数据\n",
    "(train_x,train_y),(test_x,test_y)=datasets.cifar100.load_data()\n"
   ]
  },
  {
   "cell_type": "code",
   "execution_count": 3,
   "metadata": {},
   "outputs": [
    {
     "name": "stdout",
     "output_type": "stream",
     "text": [
      "training data shape: (50000, 32, 32, 3)\n",
      "training labels shape: (50000, 1)\n",
      "test data shape: (10000, 32, 32, 3)\n",
      "test label shape: (10000, 1)\n"
     ]
    }
   ],
   "source": [
    "#显示数据集信息\n",
    "print('training data shape:',train_x.shape)\n",
    "print('training labels shape:',train_y.shape)\n",
    "print('test data shape:',test_x.shape)\n",
    "print('test label shape:',test_y.shape)"
   ]
  },
  {
   "cell_type": "code",
   "execution_count": 4,
   "metadata": {},
   "outputs": [
    {
     "name": "stdout",
     "output_type": "stream",
     "text": [
      "training data shape: (10000, 32, 32, 3)\n",
      "training labels shape: (10000, 1)\n",
      "test data shape: (2000, 32, 32, 3)\n",
      "test label shape: (2000, 1)\n"
     ]
    }
   ],
   "source": [
    "train_x=train_x[0:10000,:,:,:]\n",
    "train_y=train_y[0:10000,:]\n",
    "test_x=test_x[-2000:,:,:,:]\n",
    "test_y=test_y[-2000:,:]\n",
    "print('training data shape:',train_x.shape)\n",
    "print('training labels shape:',train_y.shape)\n",
    "print('test data shape:',test_x.shape)\n",
    "print('test label shape:',test_y.shape)"
   ]
  },
  {
   "cell_type": "code",
   "execution_count": 10,
   "metadata": {},
   "outputs": [
    {
     "data": {
      "text/plain": [
       "<matplotlib.image.AxesImage at 0x1ac5bcb3d68>"
      ]
     },
     "execution_count": 10,
     "metadata": {},
     "output_type": "execute_result"
    },
    {
     "data": {
      "image/png": "[encoded data removed]",
      "text/plain": [
       "<Figure size 432x288 with 1 Axes>"
      ]
     },
     "metadata": {
      "needs_background": "light"
     },
     "output_type": "display_data"
    }
   ],
   "source": [
    "#查看单项image和label\n",
    "#查看Xtrain第7张image\n",
    "plt.imshow(train_x[6])"
   ]
  },
  {
   "cell_type": "code",
   "execution_count": null,
   "metadata": {},
   "outputs": [],
   "source": [
    "plt.figure(figsize=(5,3))\n",
    "plt.subplots_adjust(hspace=0.1)\n",
    "for i in range(15):\n",
    "    plt.subplot(3,5,i+1)\n",
    "    plt.imshow(train_x[i])\n",
    "    plt.axis('off')\n",
    "_ = plt.suptitle(\"geektutu.com cifar-10 example\")"
   ]
  },
  {
   "cell_type": "code",
   "execution_count": 5,
   "metadata": {},
   "outputs": [
    {
     "data": {
      "text/plain": [
       "array([1., 1., 1.])"
      ]
     },
     "execution_count": 5,
     "metadata": {},
     "output_type": "execute_result"
    }
   ],
   "source": [
    "#将图像进行数字标准化\n",
    "train_x,test_x=train_x/255.0,test_x/255.0\n",
    "#查看预处理后的图像数据信息\n",
    "train_x[0][0][0]"
   ]
  },
  {
   "cell_type": "code",
   "execution_count": 7,
   "metadata": {},
   "outputs": [
    {
     "data": {
      "text/plain": [
       "array([[19],\n",
       "       [29],\n",
       "       [ 0],\n",
       "       [11],\n",
       "       [ 1],\n",
       "       [86],\n",
       "       [90],\n",
       "       [28],\n",
       "       [23],\n",
       "       [31]])"
      ]
     },
     "execution_count": 7,
     "metadata": {},
     "output_type": "execute_result"
    }
   ],
   "source": [
    "#查看标签数据\n",
    "train_y[:10]"
   ]
  },
  {
   "cell_type": "code",
   "execution_count": 11,
   "metadata": {},
   "outputs": [],
   "source": [
    "covn_base=tf.keras.applications.vgg16.VGG16(weights='imagenet',\n",
    "                                               include_top=False,\n",
    "                                               input_shape=(32,32,3),\n",
    "                                               pooling='max')\n",
    "covn_base.trainable=False"
   ]
  },
  {
   "cell_type": "code",
   "execution_count": 12,
   "metadata": {},
   "outputs": [
    {
     "name": "stdout",
     "output_type": "stream",
     "text": [
      "Model: \"vgg16\"\n",
      "_________________________________________________________________\n",
      "Layer (type)                 Output Shape              Param #   \n",
      "=================================================================\n",
      "input_2 (InputLayer)         [(None, 32, 32, 3)]       0         \n",
      "_________________________________________________________________\n",
      "block1_conv1 (Conv2D)        (None, 32, 32, 64)        1792      \n",
      "_________________________________________________________________\n",
      "block1_conv2 (Conv2D)        (None, 32, 32, 64)        36928     \n",
      "_________________________________________________________________\n",
      "block1_pool (MaxPooling2D)   (None, 16, 16, 64)        0         \n",
      "_________________________________________________________________\n",
      "block2_conv1 (Conv2D)        (None, 16, 16, 128)       73856     \n",
      "_________________________________________________________________\n",
      "block2_conv2 (Conv2D)        (None, 16, 16, 128)       147584    \n",
      "_________________________________________________________________\n",
      "block2_pool (MaxPooling2D)   (None, 8, 8, 128)         0         \n",
      "_________________________________________________________________\n",
      "block3_conv1 (Conv2D)        (None, 8, 8, 256)         295168    \n",
      "_________________________________________________________________\n",
      "block3_conv2 (Conv2D)        (None, 8, 8, 256)         590080    \n",
      "_________________________________________________________________\n",
      "block3_conv3 (Conv2D)        (None, 8, 8, 256)         590080    \n",
      "_________________________________________________________________\n",
      "block3_pool (MaxPooling2D)   (None, 4, 4, 256)         0         \n",
      "_________________________________________________________________\n",
      "block4_conv1 (Conv2D)        (None, 4, 4, 512)         1180160   \n",
      "_________________________________________________________________\n",
      "block4_conv2 (Conv2D)        (None, 4, 4, 512)         2359808   \n",
      "_________________________________________________________________\n",
      "block4_conv3 (Conv2D)        (None, 4, 4, 512)         2359808   \n",
      "_________________________________________________________________\n",
      "block4_pool (MaxPooling2D)   (None, 2, 2, 512)         0         \n",
      "_________________________________________________________________\n",
      "block5_conv1 (Conv2D)        (None, 2, 2, 512)         2359808   \n",
      "_________________________________________________________________\n",
      "block5_conv2 (Conv2D)        (None, 2, 2, 512)         2359808   \n",
      "_________________________________________________________________\n",
      "block5_conv3 (Conv2D)        (None, 2, 2, 512)         2359808   \n",
      "_________________________________________________________________\n",
      "block5_pool (MaxPooling2D)   (None, 1, 1, 512)         0         \n",
      "_________________________________________________________________\n",
      "global_max_pooling2d_1 (Glob (None, 512)               0         \n",
      "=================================================================\n",
      "Total params: 14,714,688\n",
      "Trainable params: 0\n",
      "Non-trainable params: 14,714,688\n",
      "_________________________________________________________________\n"
     ]
    }
   ],
   "source": [
    "covn_base.summary()"
   ]
  },
  {
   "cell_type": "code",
   "execution_count": 13,
   "metadata": {},
   "outputs": [
    {
     "name": "stdout",
     "output_type": "stream",
     "text": [
      "Model: \"sequential\"\n",
      "_________________________________________________________________\n",
      "Layer (type)                 Output Shape              Param #   \n",
      "=================================================================\n",
      "vgg16 (Model)                (None, 512)               14714688  \n",
      "_________________________________________________________________\n",
      "dense (Dense)                (None, 128)               65664     \n",
      "_________________________________________________________________\n",
      "dense_1 (Dense)              (None, 64)                8256      \n",
      "_________________________________________________________________\n",
      "dense_2 (Dense)              (None, 100)               6500      \n",
      "=================================================================\n",
      "Total params: 14,795,108\n",
      "Trainable params: 80,420\n",
      "Non-trainable params: 14,714,688\n",
      "_________________________________________________________________\n"
     ]
    }
   ],
   "source": [
    "model=tf.keras.Sequential()\n",
    "model.add(covn_base)\n",
    "model.add(layers.Dense(128,activation='relu'))\n",
    "model.add(tf.keras.layers.Dense(64,activation='relu'))\n",
    "model.add(tf.keras.layers.Dense(100,activation='softmax'))\n",
    "model.summary()"
   ]
  },
  {
   "cell_type": "code",
   "execution_count": 14,
   "metadata": {},
   "outputs": [
    {
     "name": "stdout",
     "output_type": "stream",
     "text": [
      "Epoch 1/5\n",
      "10000/10000 [==============================] - 48s 5ms/sample - loss: 4.1330 - acc: 0.0778\n",
      "Epoch 2/5\n",
      "10000/10000 [==============================] - 49s 5ms/sample - loss: 3.3803 - acc: 0.1782\n",
      "Epoch 3/5\n",
      "10000/10000 [==============================] - 50s 5ms/sample - loss: 3.1030 - acc: 0.23353s - loss\n",
      "Epoch 4/5\n",
      "10000/10000 [==============================] - 48s 5ms/sample - loss: 2.9349 - acc: 0.2668\n",
      "Epoch 5/5\n",
      "10000/10000 [==============================] - 54s 5ms/sample - loss: 2.8045 - acc: 0.29573s - loss: 2\n"
     ]
    }
   ],
   "source": [
    "model.compile(optimizer='adam',loss='sparse_categorical_crossentropy',metrics=['acc'])\n",
    "history=model.fit(train_x,train_y,epochs=5)"
   ]
  },
  {
   "cell_type": "code",
   "execution_count": 15,
   "metadata": {},
   "outputs": [
    {
     "data": {
      "image/png": "[encoded data removed]",
      "text/plain": [
       "<Figure size 576x360 with 1 Axes>"
      ]
     },
     "metadata": {
      "needs_background": "light"
     },
     "output_type": "display_data"
    }
   ],
   "source": [
    "def plot_learning_curves(history):\n",
    "    pd.DataFrame(history.history).plot(figsize=(8,5))\n",
    "    plt.grid(True)\n",
    "    plt.gca().set_ylim(0,8)\n",
    "    plt.show()\n",
    "    \n",
    "plot_learning_curves(history)"
   ]
  },
  {
   "cell_type": "markdown",
   "metadata": {},
   "source": []
  },
  {
   "cell_type": "code",
   "execution_count": 18,
   "metadata": {},
   "outputs": [
    {
     "name": "stdout",
     "output_type": "stream",
     "text": [
      "2000/2000 [==============================] - 10s 5ms/sample - loss: 3.0569 - acc: 0.2475\n"
     ]
    },
    {
     "data": {
      "text/plain": [
       "[3.0569053745269774, 0.2475]"
      ]
     },
     "execution_count": 18,
     "metadata": {},
     "output_type": "execute_result"
    }
   ],
   "source": [
    "model.evaluate(test_x,test_y)"
   ]
  },
  {
   "cell_type": "code",
   "execution_count": 22,
   "metadata": {},
   "outputs": [],
   "source": [
    "fine_tune_at=-3\n",
    "for layer in covn_base.layers[:fine_tune_at]:\n",
    "    layer.trainable=False\n",
    "model.compile(optimizer=tf.keras.optimizers.Adam(lr=0.0001),\n",
    "              loss='sparse_categorical_crossentropy',\n",
    "              metrics=['acc'])"
   ]
  },
  {
   "cell_type": "code",
   "execution_count": 23,
   "metadata": {},
   "outputs": [
    {
     "name": "stdout",
     "output_type": "stream",
     "text": [
      "Epoch 1/10\n",
      "10000/10000 [==============================] - 49s 5ms/sample - loss: 2.5990 - acc: 0.3401\n",
      "Epoch 2/10\n",
      "10000/10000 [==============================] - 50s 5ms/sample - loss: 2.5667 - acc: 0.3476\n",
      "Epoch 3/10\n",
      "10000/10000 [==============================] - 49s 5ms/sample - loss: 2.5529 - acc: 0.34993s - loss: \n",
      "Epoch 4/10\n",
      "10000/10000 [==============================] - 48s 5ms/sample - loss: 2.5401 - acc: 0.3522\n",
      "Epoch 5/10\n",
      "10000/10000 [==============================] - 50s 5ms/sample - loss: 2.5286 - acc: 0.3556\n",
      "Epoch 6/10\n",
      "10000/10000 [==============================] - 49s 5ms/sample - loss: 2.5168 - acc: 0.35860s - loss: 2.5151 - acc: 0.358 - ETA: 0s - loss: 2.5154 - acc: 0.\n",
      "Epoch 7/10\n",
      "10000/10000 [==============================] - 49s 5ms/sample - loss: 2.5057 - acc: 0.3617\n",
      "Epoch 8/10\n",
      "10000/10000 [==============================] - 49s 5ms/sample - loss: 2.4961 - acc: 0.3616\n",
      "Epoch 9/10\n",
      "10000/10000 [==============================] - 50s 5ms/sample - loss: 2.4864 - acc: 0.3630\n",
      "Epoch 10/10\n",
      "10000/10000 [==============================] - 50s 5ms/sample - loss: 2.4765 - acc: 0.36682s - loss: 2.4761 - acc: 0.367 - ETA: 2s - loss: 2.47\n"
     ]
    }
   ],
   "source": [
    "history=model.fit(train_x,train_y,epochs=10)"
   ]
  },
  {
   "cell_type": "code",
   "execution_count": 24,
   "metadata": {},
   "outputs": [
    {
     "name": "stdout",
     "output_type": "stream",
     "text": [
      "2000/2000 [==============================] - 10s 5ms/sample - loss: 2.9467 - acc: 0.27403s - l\n"
     ]
    },
    {
     "data": {
      "text/plain": [
       "[2.946732837677002, 0.274]"
      ]
     },
     "execution_count": 24,
     "metadata": {},
     "output_type": "execute_result"
    }
   ],
   "source": [
    "model.evaluate(test_x,test_y)"
   ]
  },
  {
   "cell_type": "code",
   "execution_count": null,
   "metadata": {},
   "outputs": [],
   "source": []
  }
 ],
 "metadata": {
  "kernelspec": {
   "display_name": "Python 3",
   "language": "python",
   "name": "python3"
  },
  "language_info": {
   "codemirror_mode": {
    "name": "ipython",
    "version": 3
   },
   "file_extension": ".py",
   "mimetype": "text/x-python",
   "name": "python",
   "nbconvert_exporter": "python",
   "pygments_lexer": "ipython3",
   "version": "3.7.3"
  }
 },
 "nbformat": 4,
 "nbformat_minor": 2
}
