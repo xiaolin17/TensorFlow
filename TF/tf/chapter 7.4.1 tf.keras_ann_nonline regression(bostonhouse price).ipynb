{
 "cells": [
  {
   "cell_type": "code",
   "execution_count": 1,
   "metadata": {},
   "outputs": [
    {
     "name": "stderr",
     "output_type": "stream",
     "text": [
      "d:\\python3.7.5\\lib\\site-packages\\tensorflow\\python\\framework\\dtypes.py:523: FutureWarning: Passing (type, 1) or '1type' as a synonym of type is deprecated; in a future version of numpy, it will be understood as (type, (1,)) / '(1,)type'.\n",
      "  _np_qint8 = np.dtype([(\"qint8\", np.int8, 1)])\n",
      "d:\\python3.7.5\\lib\\site-packages\\tensorflow\\python\\framework\\dtypes.py:524: FutureWarning: Passing (type, 1) or '1type' as a synonym of type is deprecated; in a future version of numpy, it will be understood as (type, (1,)) / '(1,)type'.\n",
      "  _np_quint8 = np.dtype([(\"quint8\", np.uint8, 1)])\n",
      "d:\\python3.7.5\\lib\\site-packages\\tensorflow\\python\\framework\\dtypes.py:525: FutureWarning: Passing (type, 1) or '1type' as a synonym of type is deprecated; in a future version of numpy, it will be understood as (type, (1,)) / '(1,)type'.\n",
      "  _np_qint16 = np.dtype([(\"qint16\", np.int16, 1)])\n",
      "d:\\python3.7.5\\lib\\site-packages\\tensorflow\\python\\framework\\dtypes.py:526: FutureWarning: Passing (type, 1) or '1type' as a synonym of type is deprecated; in a future version of numpy, it will be understood as (type, (1,)) / '(1,)type'.\n",
      "  _np_quint16 = np.dtype([(\"quint16\", np.uint16, 1)])\n",
      "d:\\python3.7.5\\lib\\site-packages\\tensorflow\\python\\framework\\dtypes.py:527: FutureWarning: Passing (type, 1) or '1type' as a synonym of type is deprecated; in a future version of numpy, it will be understood as (type, (1,)) / '(1,)type'.\n",
      "  _np_qint32 = np.dtype([(\"qint32\", np.int32, 1)])\n",
      "d:\\python3.7.5\\lib\\site-packages\\tensorflow\\python\\framework\\dtypes.py:532: FutureWarning: Passing (type, 1) or '1type' as a synonym of type is deprecated; in a future version of numpy, it will be understood as (type, (1,)) / '(1,)type'.\n",
      "  np_resource = np.dtype([(\"resource\", np.ubyte, 1)])\n"
     ]
    },
    {
     "name": "stdout",
     "output_type": "stream",
     "text": [
      "2.0.0-alpha0\n",
      "sys.version_info(major=3, minor=7, micro=5, releaselevel='final', serial=0)\n",
      "matplotlib 3.1.1\n",
      "numpy 1.17.3\n",
      "pandas 0.25.2\n",
      "sklearn 0.21.3\n",
      "tensorflow 2.0.0-alpha0\n",
      "tensorflow.python.keras.api._v2.keras 2.2.4-tf\n"
     ]
    },
    {
     "name": "stderr",
     "output_type": "stream",
     "text": [
      "d:\\python3.7.5\\lib\\site-packages\\tensorboard\\compat\\tensorflow_stub\\dtypes.py:541: FutureWarning: Passing (type, 1) or '1type' as a synonym of type is deprecated; in a future version of numpy, it will be understood as (type, (1,)) / '(1,)type'.\n",
      "  _np_qint8 = np.dtype([(\"qint8\", np.int8, 1)])\n",
      "d:\\python3.7.5\\lib\\site-packages\\tensorboard\\compat\\tensorflow_stub\\dtypes.py:542: FutureWarning: Passing (type, 1) or '1type' as a synonym of type is deprecated; in a future version of numpy, it will be understood as (type, (1,)) / '(1,)type'.\n",
      "  _np_quint8 = np.dtype([(\"quint8\", np.uint8, 1)])\n",
      "d:\\python3.7.5\\lib\\site-packages\\tensorboard\\compat\\tensorflow_stub\\dtypes.py:543: FutureWarning: Passing (type, 1) or '1type' as a synonym of type is deprecated; in a future version of numpy, it will be understood as (type, (1,)) / '(1,)type'.\n",
      "  _np_qint16 = np.dtype([(\"qint16\", np.int16, 1)])\n",
      "d:\\python3.7.5\\lib\\site-packages\\tensorboard\\compat\\tensorflow_stub\\dtypes.py:544: FutureWarning: Passing (type, 1) or '1type' as a synonym of type is deprecated; in a future version of numpy, it will be understood as (type, (1,)) / '(1,)type'.\n",
      "  _np_quint16 = np.dtype([(\"quint16\", np.uint16, 1)])\n",
      "d:\\python3.7.5\\lib\\site-packages\\tensorboard\\compat\\tensorflow_stub\\dtypes.py:545: FutureWarning: Passing (type, 1) or '1type' as a synonym of type is deprecated; in a future version of numpy, it will be understood as (type, (1,)) / '(1,)type'.\n",
      "  _np_qint32 = np.dtype([(\"qint32\", np.int32, 1)])\n",
      "d:\\python3.7.5\\lib\\site-packages\\tensorboard\\compat\\tensorflow_stub\\dtypes.py:550: FutureWarning: Passing (type, 1) or '1type' as a synonym of type is deprecated; in a future version of numpy, it will be understood as (type, (1,)) / '(1,)type'.\n",
      "  np_resource = np.dtype([(\"resource\", np.ubyte, 1)])\n"
     ]
    }
   ],
   "source": [
    "import matplotlib as mpl\n",
    "import matplotlib.pyplot as plt\n",
    "%matplotlib inline  \n",
    "#内嵌绘画\n",
    "import numpy as np\n",
    "import sklearn \n",
    "import os\n",
    "import pandas as pd\n",
    "import time\n",
    "import sys   #sys是system的缩写，用来获取操作系统和编译器的一些配置，设置及操作,如判断文件和文件夹是否存在，创建文件文件夹，获取系统版本之类的操作\n",
    "import tensorflow as tf\n",
    "\n",
    "from tensorflow import keras\n",
    "\n",
    "print(tf.__version__)\n",
    "print(sys.version_info)\n",
    "for module in mpl,np,pd,sklearn,tf,keras:\n",
    "    print(module.__name__,module.__version__)"
   ]
  },
  {
   "cell_type": "code",
   "execution_count": 2,
   "metadata": {},
   "outputs": [
    {
     "name": "stdout",
     "output_type": "stream",
     "text": [
      ".. _california_housing_dataset:\n",
      "\n",
      "California Housing dataset\n",
      "--------------------------\n",
      "\n",
      "**Data Set Characteristics:**\n",
      "\n",
      "    :Number of Instances: 20640\n",
      "\n",
      "    :Number of Attributes: 8 numeric, predictive attributes and the target\n",
      "\n",
      "    :Attribute Information:\n",
      "        - MedInc        median income in block\n",
      "        - HouseAge      median house age in block\n",
      "        - AveRooms      average number of rooms\n",
      "        - AveBedrms     average number of bedrooms\n",
      "        - Population    block population\n",
      "        - AveOccup      average house occupancy\n",
      "        - Latitude      house block latitude\n",
      "        - Longitude     house block longitude\n",
      "\n",
      "    :Missing Attribute Values: None\n",
      "\n",
      "This dataset was obtained from the StatLib repository.\n",
      "http://lib.stat.cmu.edu/datasets/\n",
      "\n",
      "The target variable is the median house value for California districts.\n",
      "\n",
      "This dataset was derived from the 1990 U.S. census, using one row per census\n",
      "block group. A block group is the smallest geographical unit for which the U.S.\n",
      "Census Bureau publishes sample data (a block group typically has a population\n",
      "of 600 to 3,000 people).\n",
      "\n",
      "It can be downloaded/loaded using the\n",
      ":func:`sklearn.datasets.fetch_california_housing` function.\n",
      "\n",
      ".. topic:: References\n",
      "\n",
      "    - Pace, R. Kelley and Ronald Barry, Sparse Spatial Autoregressions,\n",
      "      Statistics and Probability Letters, 33 (1997) 291-297\n",
      "\n",
      "(20640, 8)\n",
      "(20640,)\n"
     ]
    }
   ],
   "source": [
    "from sklearn.datasets import fetch_california_housing\n",
    "\n",
    "housing=fetch_california_housing()\n",
    "print(housing.DESCR)\n",
    "print(housing.data.shape)\n",
    "print(housing.target.shape)"
   ]
  },
  {
   "cell_type": "code",
   "execution_count": 3,
   "metadata": {},
   "outputs": [
    {
     "name": "stdout",
     "output_type": "stream",
     "text": [
      "(11610, 8) (11610,)\n",
      "(3870, 8) (3870,)\n",
      "(5160, 8) (5160,)\n"
     ]
    }
   ],
   "source": [
    "from sklearn.model_selection import train_test_split\n",
    "\n",
    "x_train_all,x_test,y_train_all,y_test=train_test_split(housing.data,housing.target,random_state=7)\n",
    "x_train,x_valid,y_train,y_valid=train_test_split(x_train_all,y_train_all,random_state=11)\n",
    "print(x_train.shape,y_train.shape)\n",
    "print(x_valid.shape,y_valid.shape)\n",
    "print(x_test.shape,y_test.shape)"
   ]
  },
  {
   "cell_type": "code",
   "execution_count": 4,
   "metadata": {},
   "outputs": [],
   "source": [
    "from sklearn.preprocessing import StandardScaler\n",
    "\n",
    "scaler=StandardScaler()\n",
    "x_train_scaled=scaler.fit_transform(x_train)\n",
    "x_valid_scaled=scaler.transform(x_valid)\n",
    "x_test_scaled=scaler.transform(x_test)"
   ]
  },
  {
   "cell_type": "code",
   "execution_count": 5,
   "metadata": {},
   "outputs": [
    {
     "name": "stdout",
     "output_type": "stream",
     "text": [
      "Model: \"sequential\"\n",
      "_________________________________________________________________\n",
      "Layer (type)                 Output Shape              Param #   \n",
      "=================================================================\n",
      "dense (Dense)                (None, 30)                270       \n",
      "_________________________________________________________________\n",
      "dense_1 (Dense)              (None, 20)                620       \n",
      "_________________________________________________________________\n",
      "dense_2 (Dense)              (None, 1)                 21        \n",
      "=================================================================\n",
      "Total params: 911\n",
      "Trainable params: 911\n",
      "Non-trainable params: 0\n",
      "_________________________________________________________________\n"
     ]
    }
   ],
   "source": [
    "model=tf.keras.Sequential([\n",
    "     tf.keras.layers.Dense(30,activation='relu',input_shape=x_train.shape[1:]),\n",
    "     tf.keras.layers.Dense(20,activation='relu'),\n",
    "     \n",
    "     tf.keras.layers.Dense(1),])\n",
    "model.summary()\n"
   ]
  },
  {
   "cell_type": "code",
   "execution_count": 6,
   "metadata": {},
   "outputs": [],
   "source": [
    "model.compile(optimizer='sgd',loss='mse',metrics=[\"acc\"])\n",
    "\n",
    "\n",
    "callbacks=[keras.callbacks.EarlyStopping(patience=5,min_delta=1e-3)]\n"
   ]
  },
  {
   "cell_type": "code",
   "execution_count": 7,
   "metadata": {},
   "outputs": [
    {
     "name": "stdout",
     "output_type": "stream",
     "text": [
      "Train on 11610 samples, validate on 3870 samples\n",
      "Epoch 1/100\n",
      "11610/11610 [==============================] - 0s 41us/sample - loss: 2.0709 - acc: 0.0027 - val_loss: 0.9524 - val_acc: 0.0023\n",
      "Epoch 2/100\n",
      "11610/11610 [==============================] - 0s 27us/sample - loss: 0.7798 - acc: 0.0031 - val_loss: 0.7413 - val_acc: 0.0023\n",
      "Epoch 3/100\n",
      "11610/11610 [==============================] - 0s 27us/sample - loss: 0.6474 - acc: 0.0031 - val_loss: 0.6740 - val_acc: 0.0023\n",
      "Epoch 4/100\n",
      "11610/11610 [==============================] - 0s 26us/sample - loss: 0.6009 - acc: 0.0031 - val_loss: 0.6349 - val_acc: 0.0023\n",
      "Epoch 5/100\n",
      "11610/11610 [==============================] - 0s 26us/sample - loss: 0.5701 - acc: 0.0031 - val_loss: 0.6048 - val_acc: 0.0023\n",
      "Epoch 6/100\n",
      "11610/11610 [==============================] - 0s 27us/sample - loss: 0.5453 - acc: 0.0031 - val_loss: 0.5778 - val_acc: 0.0023\n",
      "Epoch 7/100\n",
      "11610/11610 [==============================] - 0s 26us/sample - loss: 0.5261 - acc: 0.0031 - val_loss: 0.5595 - val_acc: 0.0023\n",
      "Epoch 8/100\n",
      "11610/11610 [==============================] - 0s 27us/sample - loss: 0.5104 - acc: 0.0031 - val_loss: 0.5394 - val_acc: 0.0023\n",
      "Epoch 9/100\n",
      "11610/11610 [==============================] - 0s 28us/sample - loss: 0.4969 - acc: 0.0031 - val_loss: 0.5261 - val_acc: 0.0023\n",
      "Epoch 10/100\n",
      "11610/11610 [==============================] - 0s 26us/sample - loss: 0.4856 - acc: 0.0031 - val_loss: 0.5132 - val_acc: 0.0023\n",
      "Epoch 11/100\n",
      "11610/11610 [==============================] - 0s 27us/sample - loss: 0.4761 - acc: 0.0031 - val_loss: 0.5035 - val_acc: 0.0023\n",
      "Epoch 12/100\n",
      "11610/11610 [==============================] - 0s 26us/sample - loss: 0.4676 - acc: 0.0031 - val_loss: 0.4924 - val_acc: 0.0023\n",
      "Epoch 13/100\n",
      "11610/11610 [==============================] - 0s 27us/sample - loss: 0.4602 - acc: 0.0031 - val_loss: 0.4854 - val_acc: 0.0023\n",
      "Epoch 14/100\n",
      "11610/11610 [==============================] - 0s 27us/sample - loss: 0.4536 - acc: 0.0031 - val_loss: 0.4781 - val_acc: 0.0023\n",
      "Epoch 15/100\n",
      "11610/11610 [==============================] - 0s 27us/sample - loss: 0.4475 - acc: 0.0031 - val_loss: 0.4698 - val_acc: 0.0023\n",
      "Epoch 16/100\n",
      "11610/11610 [==============================] - 0s 28us/sample - loss: 0.4422 - acc: 0.0031 - val_loss: 0.4636 - val_acc: 0.0023\n",
      "Epoch 17/100\n",
      "11610/11610 [==============================] - 0s 26us/sample - loss: 0.4371 - acc: 0.0031 - val_loss: 0.4582 - val_acc: 0.0023\n",
      "Epoch 18/100\n",
      "11610/11610 [==============================] - 0s 26us/sample - loss: 0.4335 - acc: 0.0031 - val_loss: 0.4573 - val_acc: 0.0023\n",
      "Epoch 19/100\n",
      "11610/11610 [==============================] - 0s 27us/sample - loss: 0.4288 - acc: 0.0031 - val_loss: 0.4508 - val_acc: 0.0023\n",
      "Epoch 20/100\n",
      "11610/11610 [==============================] - 0s 29us/sample - loss: 0.4255 - acc: 0.0031 - val_loss: 0.4457 - val_acc: 0.0023\n",
      "Epoch 21/100\n",
      "11610/11610 [==============================] - 0s 26us/sample - loss: 0.4219 - acc: 0.0031 - val_loss: 0.4432 - val_acc: 0.0023\n",
      "Epoch 22/100\n",
      "11610/11610 [==============================] - 0s 27us/sample - loss: 0.4193 - acc: 0.0031 - val_loss: 0.4430 - val_acc: 0.0023\n",
      "Epoch 23/100\n",
      "11610/11610 [==============================] - 0s 27us/sample - loss: 0.4161 - acc: 0.0031 - val_loss: 0.4407 - val_acc: 0.0023\n",
      "Epoch 24/100\n",
      "11610/11610 [==============================] - 0s 27us/sample - loss: 0.4137 - acc: 0.0031 - val_loss: 0.4368 - val_acc: 0.0023\n",
      "Epoch 25/100\n",
      "11610/11610 [==============================] - 0s 26us/sample - loss: 0.4112 - acc: 0.0031 - val_loss: 0.4334 - val_acc: 0.0023\n",
      "Epoch 26/100\n",
      "11610/11610 [==============================] - 0s 27us/sample - loss: 0.4084 - acc: 0.0031 - val_loss: 0.4314 - val_acc: 0.0023\n",
      "Epoch 27/100\n",
      "11610/11610 [==============================] - 0s 26us/sample - loss: 0.4056 - acc: 0.0031 - val_loss: 0.4246 - val_acc: 0.0023\n",
      "Epoch 28/100\n",
      "11610/11610 [==============================] - 0s 27us/sample - loss: 0.4047 - acc: 0.0031 - val_loss: 0.4247 - val_acc: 0.0023\n",
      "Epoch 29/100\n",
      "11610/11610 [==============================] - 0s 27us/sample - loss: 0.4015 - acc: 0.0031 - val_loss: 0.4215 - val_acc: 0.0023\n",
      "Epoch 30/100\n",
      "11610/11610 [==============================] - 0s 27us/sample - loss: 0.3995 - acc: 0.0031 - val_loss: 0.4195 - val_acc: 0.0023\n",
      "Epoch 31/100\n",
      "11610/11610 [==============================] - 0s 26us/sample - loss: 0.3974 - acc: 0.0031 - val_loss: 0.4179 - val_acc: 0.0023\n",
      "Epoch 32/100\n",
      "11610/11610 [==============================] - 0s 26us/sample - loss: 0.3956 - acc: 0.0031 - val_loss: 0.4204 - val_acc: 0.0023\n",
      "Epoch 33/100\n",
      "11610/11610 [==============================] - 0s 26us/sample - loss: 0.3938 - acc: 0.0031 - val_loss: 0.4128 - val_acc: 0.0023\n",
      "Epoch 34/100\n",
      "11610/11610 [==============================] - 0s 28us/sample - loss: 0.3914 - acc: 0.0031 - val_loss: 0.4104 - val_acc: 0.0023\n",
      "Epoch 35/100\n",
      "11610/11610 [==============================] - 0s 27us/sample - loss: 0.3900 - acc: 0.0031 - val_loss: 0.4098 - val_acc: 0.0023\n",
      "Epoch 36/100\n",
      "11610/11610 [==============================] - 0s 28us/sample - loss: 0.3886 - acc: 0.0031 - val_loss: 0.4087 - val_acc: 0.0023\n",
      "Epoch 37/100\n",
      "11610/11610 [==============================] - 0s 29us/sample - loss: 0.3875 - acc: 0.0031 - val_loss: 0.4068 - val_acc: 0.0023\n",
      "Epoch 38/100\n",
      "11610/11610 [==============================] - 0s 29us/sample - loss: 0.3856 - acc: 0.0031 - val_loss: 0.4044 - val_acc: 0.0023\n",
      "Epoch 39/100\n",
      "11610/11610 [==============================] - 0s 28us/sample - loss: 0.3843 - acc: 0.0031 - val_loss: 0.4052 - val_acc: 0.0023\n",
      "Epoch 40/100\n",
      "11610/11610 [==============================] - 0s 28us/sample - loss: 0.3829 - acc: 0.0031 - val_loss: 0.4026 - val_acc: 0.0023\n",
      "Epoch 41/100\n",
      "11610/11610 [==============================] - 0s 28us/sample - loss: 0.3811 - acc: 0.0031 - val_loss: 0.4010 - val_acc: 0.0023\n",
      "Epoch 42/100\n",
      "11610/11610 [==============================] - 0s 27us/sample - loss: 0.3798 - acc: 0.0031 - val_loss: 0.3995 - val_acc: 0.0023\n",
      "Epoch 43/100\n",
      "11610/11610 [==============================] - 0s 27us/sample - loss: 0.3793 - acc: 0.0031 - val_loss: 0.3958 - val_acc: 0.0023\n",
      "Epoch 44/100\n",
      "11610/11610 [==============================] - 0s 28us/sample - loss: 0.3773 - acc: 0.0031 - val_loss: 0.3957 - val_acc: 0.0023\n",
      "Epoch 45/100\n",
      "11610/11610 [==============================] - 0s 27us/sample - loss: 0.3765 - acc: 0.0031 - val_loss: 0.3962 - val_acc: 0.0023\n",
      "Epoch 46/100\n",
      "11610/11610 [==============================] - 0s 30us/sample - loss: 0.3755 - acc: 0.0031 - val_loss: 0.3959 - val_acc: 0.0023\n",
      "Epoch 47/100\n",
      "11610/11610 [==============================] - 0s 26us/sample - loss: 0.3748 - acc: 0.0031 - val_loss: 0.3924 - val_acc: 0.0023\n",
      "Epoch 48/100\n",
      "11610/11610 [==============================] - 0s 27us/sample - loss: 0.3736 - acc: 0.0031 - val_loss: 0.3914 - val_acc: 0.0023\n",
      "Epoch 49/100\n",
      "11610/11610 [==============================] - 0s 27us/sample - loss: 0.3726 - acc: 0.0031 - val_loss: 0.3911 - val_acc: 0.0023\n",
      "Epoch 50/100\n",
      "11610/11610 [==============================] - 0s 30us/sample - loss: 0.3711 - acc: 0.0031 - val_loss: 0.3899 - val_acc: 0.0023\n",
      "Epoch 51/100\n",
      "11610/11610 [==============================] - 0s 29us/sample - loss: 0.3702 - acc: 0.0031 - val_loss: 0.3867 - val_acc: 0.0023\n",
      "Epoch 52/100\n",
      "11610/11610 [==============================] - 0s 29us/sample - loss: 0.3688 - acc: 0.0031 - val_loss: 0.3861 - val_acc: 0.0023\n",
      "Epoch 53/100\n",
      "11610/11610 [==============================] - 0s 29us/sample - loss: 0.3684 - acc: 0.0031 - val_loss: 0.3851 - val_acc: 0.0023\n",
      "Epoch 54/100\n",
      "11610/11610 [==============================] - 0s 32us/sample - loss: 0.3670 - acc: 0.0031 - val_loss: 0.3871 - val_acc: 0.0023\n",
      "Epoch 55/100\n",
      "11610/11610 [==============================] - 0s 30us/sample - loss: 0.3666 - acc: 0.0031 - val_loss: 0.3838 - val_acc: 0.0023\n",
      "Epoch 56/100\n",
      "11610/11610 [==============================] - 0s 30us/sample - loss: 0.3658 - acc: 0.0031 - val_loss: 0.3832 - val_acc: 0.0023\n",
      "Epoch 57/100\n",
      "11610/11610 [==============================] - 0s 27us/sample - loss: 0.3643 - acc: 0.0031 - val_loss: 0.3823 - val_acc: 0.0023\n",
      "Epoch 58/100\n",
      "11610/11610 [==============================] - 0s 29us/sample - loss: 0.3638 - acc: 0.0031 - val_loss: 0.3808 - val_acc: 0.0023\n"
     ]
    },
    {
     "name": "stdout",
     "output_type": "stream",
     "text": [
      "Epoch 59/100\n",
      "11610/11610 [==============================] - 0s 26us/sample - loss: 0.3628 - acc: 0.0031 - val_loss: 0.3799 - val_acc: 0.0023\n",
      "Epoch 60/100\n",
      "11610/11610 [==============================] - 0s 27us/sample - loss: 0.3618 - acc: 0.0031 - val_loss: 0.3784 - val_acc: 0.0023\n",
      "Epoch 61/100\n",
      "11610/11610 [==============================] - 0s 27us/sample - loss: 0.3611 - acc: 0.0031 - val_loss: 0.3778 - val_acc: 0.0023\n",
      "Epoch 62/100\n",
      "11610/11610 [==============================] - 0s 29us/sample - loss: 0.3607 - acc: 0.0031 - val_loss: 0.3789 - val_acc: 0.0023\n",
      "Epoch 63/100\n",
      "11610/11610 [==============================] - 0s 28us/sample - loss: 0.3603 - acc: 0.0031 - val_loss: 0.3751 - val_acc: 0.0023\n",
      "Epoch 64/100\n",
      "11610/11610 [==============================] - 0s 27us/sample - loss: 0.3596 - acc: 0.0031 - val_loss: 0.3760 - val_acc: 0.0023\n",
      "Epoch 65/100\n",
      "11610/11610 [==============================] - 0s 27us/sample - loss: 0.3581 - acc: 0.0031 - val_loss: 0.3766 - val_acc: 0.0023\n",
      "Epoch 66/100\n",
      "11610/11610 [==============================] - 0s 27us/sample - loss: 0.3579 - acc: 0.0031 - val_loss: 0.3754 - val_acc: 0.0023\n",
      "Epoch 67/100\n",
      "11610/11610 [==============================] - 0s 28us/sample - loss: 0.3565 - acc: 0.0031 - val_loss: 0.3749 - val_acc: 0.0023\n",
      "Epoch 68/100\n",
      "11610/11610 [==============================] - 0s 27us/sample - loss: 0.3562 - acc: 0.0031 - val_loss: 0.3746 - val_acc: 0.0023\n"
     ]
    }
   ],
   "source": [
    "history = model.fit(x_train_scaled,y_train,validation_data=(x_valid_scaled,y_valid) ,epochs=100,callbacks=callbacks)"
   ]
  },
  {
   "cell_type": "code",
   "execution_count": 8,
   "metadata": {},
   "outputs": [
    {
     "data": {
      "image/png": "[encoded data removed]",
      "text/plain": [
       "<Figure size 576x360 with 1 Axes>"
      ]
     },
     "metadata": {
      "needs_background": "light"
     },
     "output_type": "display_data"
    }
   ],
   "source": [
    "def plot_learning_curves(history):\n",
    "    pd.DataFrame(history.history).plot(figsize=(8,5))\n",
    "    plt.grid(True)\n",
    "    plt.gca().set_ylim(0,1)\n",
    "plot_learning_curves(history)"
   ]
  },
  {
   "cell_type": "code",
   "execution_count": 9,
   "metadata": {},
   "outputs": [
    {
     "name": "stdout",
     "output_type": "stream",
     "text": [
      "5160/5160 [==============================] - 0s 15us/sample - loss: 0.3792 - acc: 0.0033\n"
     ]
    },
    {
     "data": {
      "text/plain": [
       "[0.3791649641454682, 0.0032945736]"
      ]
     },
     "execution_count": 9,
     "metadata": {},
     "output_type": "execute_result"
    }
   ],
   "source": [
    "model.evaluate(x_test_scaled,y_test)"
   ]
  },
  {
   "cell_type": "code",
   "execution_count": null,
   "metadata": {},
   "outputs": [],
   "source": []
  }
 ],
 "metadata": {
  "kernelspec": {
   "display_name": "Python 3",
   "language": "python",
   "name": "python3"
  },
  "language_info": {
   "codemirror_mode": {
    "name": "ipython",
    "version": 3
   },
   "file_extension": ".py",
   "mimetype": "text/x-python",
   "name": "python",
   "nbconvert_exporter": "python",
   "pygments_lexer": "ipython3",
   "version": "3.7.5"
  }
 },
 "nbformat": 4,
 "nbformat_minor": 2
}
