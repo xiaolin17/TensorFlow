{
 "cells": [
  {
   "cell_type": "code",
   "execution_count": 1,
   "metadata": {},
   "outputs": [
    {
     "name": "stderr",
     "output_type": "stream",
     "text": [
      "d:\\python3.7.5\\lib\\site-packages\\tensorflow\\python\\framework\\dtypes.py:523: FutureWarning: Passing (type, 1) or '1type' as a synonym of type is deprecated; in a future version of numpy, it will be understood as (type, (1,)) / '(1,)type'.\n",
      "  _np_qint8 = np.dtype([(\"qint8\", np.int8, 1)])\n",
      "d:\\python3.7.5\\lib\\site-packages\\tensorflow\\python\\framework\\dtypes.py:524: FutureWarning: Passing (type, 1) or '1type' as a synonym of type is deprecated; in a future version of numpy, it will be understood as (type, (1,)) / '(1,)type'.\n",
      "  _np_quint8 = np.dtype([(\"quint8\", np.uint8, 1)])\n",
      "d:\\python3.7.5\\lib\\site-packages\\tensorflow\\python\\framework\\dtypes.py:525: FutureWarning: Passing (type, 1) or '1type' as a synonym of type is deprecated; in a future version of numpy, it will be understood as (type, (1,)) / '(1,)type'.\n",
      "  _np_qint16 = np.dtype([(\"qint16\", np.int16, 1)])\n",
      "d:\\python3.7.5\\lib\\site-packages\\tensorflow\\python\\framework\\dtypes.py:526: FutureWarning: Passing (type, 1) or '1type' as a synonym of type is deprecated; in a future version of numpy, it will be understood as (type, (1,)) / '(1,)type'.\n",
      "  _np_quint16 = np.dtype([(\"quint16\", np.uint16, 1)])\n",
      "d:\\python3.7.5\\lib\\site-packages\\tensorflow\\python\\framework\\dtypes.py:527: FutureWarning: Passing (type, 1) or '1type' as a synonym of type is deprecated; in a future version of numpy, it will be understood as (type, (1,)) / '(1,)type'.\n",
      "  _np_qint32 = np.dtype([(\"qint32\", np.int32, 1)])\n",
      "d:\\python3.7.5\\lib\\site-packages\\tensorflow\\python\\framework\\dtypes.py:532: FutureWarning: Passing (type, 1) or '1type' as a synonym of type is deprecated; in a future version of numpy, it will be understood as (type, (1,)) / '(1,)type'.\n",
      "  np_resource = np.dtype([(\"resource\", np.ubyte, 1)])\n"
     ]
    },
    {
     "name": "stdout",
     "output_type": "stream",
     "text": [
      "2.0.0-alpha0\n",
      "sys.version_info(major=3, minor=7, micro=5, releaselevel='final', serial=0)\n",
      "matplotlib 3.1.1\n",
      "numpy 1.17.3\n",
      "pandas 0.25.2\n",
      "sklearn 0.21.3\n",
      "tensorflow 2.0.0-alpha0\n",
      "tensorflow.python.keras.api._v2.keras 2.2.4-tf\n"
     ]
    },
    {
     "name": "stderr",
     "output_type": "stream",
     "text": [
      "d:\\python3.7.5\\lib\\site-packages\\tensorboard\\compat\\tensorflow_stub\\dtypes.py:541: FutureWarning: Passing (type, 1) or '1type' as a synonym of type is deprecated; in a future version of numpy, it will be understood as (type, (1,)) / '(1,)type'.\n",
      "  _np_qint8 = np.dtype([(\"qint8\", np.int8, 1)])\n",
      "d:\\python3.7.5\\lib\\site-packages\\tensorboard\\compat\\tensorflow_stub\\dtypes.py:542: FutureWarning: Passing (type, 1) or '1type' as a synonym of type is deprecated; in a future version of numpy, it will be understood as (type, (1,)) / '(1,)type'.\n",
      "  _np_quint8 = np.dtype([(\"quint8\", np.uint8, 1)])\n",
      "d:\\python3.7.5\\lib\\site-packages\\tensorboard\\compat\\tensorflow_stub\\dtypes.py:543: FutureWarning: Passing (type, 1) or '1type' as a synonym of type is deprecated; in a future version of numpy, it will be understood as (type, (1,)) / '(1,)type'.\n",
      "  _np_qint16 = np.dtype([(\"qint16\", np.int16, 1)])\n",
      "d:\\python3.7.5\\lib\\site-packages\\tensorboard\\compat\\tensorflow_stub\\dtypes.py:544: FutureWarning: Passing (type, 1) or '1type' as a synonym of type is deprecated; in a future version of numpy, it will be understood as (type, (1,)) / '(1,)type'.\n",
      "  _np_quint16 = np.dtype([(\"quint16\", np.uint16, 1)])\n",
      "d:\\python3.7.5\\lib\\site-packages\\tensorboard\\compat\\tensorflow_stub\\dtypes.py:545: FutureWarning: Passing (type, 1) or '1type' as a synonym of type is deprecated; in a future version of numpy, it will be understood as (type, (1,)) / '(1,)type'.\n",
      "  _np_qint32 = np.dtype([(\"qint32\", np.int32, 1)])\n",
      "d:\\python3.7.5\\lib\\site-packages\\tensorboard\\compat\\tensorflow_stub\\dtypes.py:550: FutureWarning: Passing (type, 1) or '1type' as a synonym of type is deprecated; in a future version of numpy, it will be understood as (type, (1,)) / '(1,)type'.\n",
      "  np_resource = np.dtype([(\"resource\", np.ubyte, 1)])\n"
     ]
    }
   ],
   "source": [
    "import matplotlib as mpl\n",
    "import matplotlib.pyplot as plt\n",
    "%matplotlib inline  \n",
    "#内嵌绘画\n",
    "import numpy as np\n",
    "import sklearn \n",
    "import os\n",
    "import pandas as pd\n",
    "import time\n",
    "import sys   #sys是system的缩写，用来获取操作系统和编译器的一些配置，设置及操作,如判断文件和文件夹是否存在，创建文件文件夹，获取系统版本之类的操作\n",
    "import tensorflow as tf\n",
    "\n",
    "from tensorflow import keras\n",
    "\n",
    "print(tf.__version__)\n",
    "print(sys.version_info)\n",
    "for module in mpl,np,pd,sklearn,tf,keras:\n",
    "    print(module.__name__,module.__version__)"
   ]
  },
  {
   "cell_type": "code",
   "execution_count": 2,
   "metadata": {},
   "outputs": [
    {
     "name": "stdout",
     "output_type": "stream",
     "text": [
      ".. _california_housing_dataset:\n",
      "\n",
      "California Housing dataset\n",
      "--------------------------\n",
      "\n",
      "**Data Set Characteristics:**\n",
      "\n",
      "    :Number of Instances: 20640\n",
      "\n",
      "    :Number of Attributes: 8 numeric, predictive attributes and the target\n",
      "\n",
      "    :Attribute Information:\n",
      "        - MedInc        median income in block\n",
      "        - HouseAge      median house age in block\n",
      "        - AveRooms      average number of rooms\n",
      "        - AveBedrms     average number of bedrooms\n",
      "        - Population    block population\n",
      "        - AveOccup      average house occupancy\n",
      "        - Latitude      house block latitude\n",
      "        - Longitude     house block longitude\n",
      "\n",
      "    :Missing Attribute Values: None\n",
      "\n",
      "This dataset was obtained from the StatLib repository.\n",
      "http://lib.stat.cmu.edu/datasets/\n",
      "\n",
      "The target variable is the median house value for California districts.\n",
      "\n",
      "This dataset was derived from the 1990 U.S. census, using one row per census\n",
      "block group. A block group is the smallest geographical unit for which the U.S.\n",
      "Census Bureau publishes sample data (a block group typically has a population\n",
      "of 600 to 3,000 people).\n",
      "\n",
      "It can be downloaded/loaded using the\n",
      ":func:`sklearn.datasets.fetch_california_housing` function.\n",
      "\n",
      ".. topic:: References\n",
      "\n",
      "    - Pace, R. Kelley and Ronald Barry, Sparse Spatial Autoregressions,\n",
      "      Statistics and Probability Letters, 33 (1997) 291-297\n",
      "\n",
      "(20640, 8)\n",
      "(20640,)\n"
     ]
    }
   ],
   "source": [
    "from sklearn.datasets import fetch_california_housing\n",
    "\n",
    "housing=fetch_california_housing()\n",
    "print(housing.DESCR)\n",
    "print(housing.data.shape)\n",
    "print(housing.target.shape)"
   ]
  },
  {
   "cell_type": "code",
   "execution_count": 3,
   "metadata": {},
   "outputs": [
    {
     "name": "stdout",
     "output_type": "stream",
     "text": [
      "(11610, 8) (11610,)\n",
      "(3870, 8) (3870,)\n",
      "(5160, 8) (5160,)\n"
     ]
    }
   ],
   "source": [
    "from sklearn.model_selection import train_test_split\n",
    "\n",
    "x_train_all,x_test,y_train_all,y_test=train_test_split(housing.data,housing.target,random_state=7)\n",
    "x_train,x_valid,y_train,y_valid=train_test_split(x_train_all,y_train_all,random_state=11)\n",
    "print(x_train.shape,y_train.shape)\n",
    "print(x_valid.shape,y_valid.shape)\n",
    "print(x_test.shape,y_test.shape)"
   ]
  },
  {
   "cell_type": "code",
   "execution_count": 4,
   "metadata": {},
   "outputs": [],
   "source": [
    "from sklearn.preprocessing import StandardScaler\n",
    "#x=(x-u)/sdt\n",
    "scaler=StandardScaler()\n",
    "x_train_scaled=scaler.fit_transform(x_train)\n",
    "x_valid_scaled=scaler.transform(x_valid)\n",
    "x_test_scaled=scaler.transform(x_test)"
   ]
  },
  {
   "cell_type": "code",
   "execution_count": 6,
   "metadata": {},
   "outputs": [
    {
     "name": "stdout",
     "output_type": "stream",
     "text": [
      "Model: \"wide_deep_model_1\"\n",
      "_________________________________________________________________\n",
      "Layer (type)                 Output Shape              Param #   \n",
      "=================================================================\n",
      "dense_3 (Dense)              multiple                  270       \n",
      "_________________________________________________________________\n",
      "dense_4 (Dense)              multiple                  620       \n",
      "_________________________________________________________________\n",
      "dense_5 (Dense)              multiple                  29        \n",
      "=================================================================\n",
      "Total params: 919\n",
      "Trainable params: 919\n",
      "Non-trainable params: 0\n",
      "_________________________________________________________________\n"
     ]
    }
   ],
   "source": [
    "#sub funcation API\n",
    "class WideDeepModel(keras.models.Model):\n",
    "    def __init__(self):\n",
    "        super(WideDeepModel,self).__init__()\n",
    "        self.hidden1_layer=keras.layers.Dense(30,activation=\"relu\")\n",
    "        self.hidden2_layer=keras.layers.Dense(20,activation=\"relu\")\n",
    "        self.output_layer=keras.layers.Dense(1)\n",
    "        \n",
    "    def call(self,input):\n",
    "        hidden1=self.hidden1_layer(input)\n",
    "        hidden2=self.hidden2_layer(hidden1)\n",
    "        concat=keras.layers.concatenate([input,hidden2])\n",
    "        output=self.output_layer(concat)\n",
    "        return output\n",
    "    \n",
    "model=WideDeepModel()\n",
    "model.build(input_shape=(None,8))\n",
    "\n",
    "\n",
    "\n",
    "\"\"\"\n",
    "\n",
    "input=tf.keras.layers.Input(shape=x_train.shape[1:])\n",
    "hidden1=tf.keras.layers.Dense(30,activation='relu')(input)\n",
    "hidden2=tf.keras.layers.Dense(20,activation='relu')(hidden1)\n",
    "#f(x)=h(g(x))\n",
    "concat=tf.keras.layers.concatenate([input,hidden2])\n",
    "output=tf.keras.layers.Dense(1)(concat)\n",
    "model=tf.keras.models.Model(inputs=[input],outputs=[output])\"\"\"\n",
    "\n",
    "model.summary()\n",
    "\n"
   ]
  },
  {
   "cell_type": "code",
   "execution_count": 8,
   "metadata": {},
   "outputs": [],
   "source": [
    "model.compile(optimizer='adam',loss='mse',metrics=[\"acc\"])\n",
    "\n",
    "callbacks=[keras.callbacks.EarlyStopping(patience=5,min_delta=1e-3)]\n"
   ]
  },
  {
   "cell_type": "code",
   "execution_count": 9,
   "metadata": {},
   "outputs": [
    {
     "name": "stdout",
     "output_type": "stream",
     "text": [
      "Train on 11610 samples, validate on 3870 samples\n",
      "Epoch 1/100\n",
      "11610/11610 [==============================] - 1s 46us/sample - loss: 1.1645 - acc: 0.0031 - val_loss: 0.6171 - val_acc: 0.0023\n",
      "Epoch 2/100\n",
      "11610/11610 [==============================] - 0s 29us/sample - loss: 0.5015 - acc: 0.0031 - val_loss: 0.4591 - val_acc: 0.0023\n",
      "Epoch 3/100\n",
      "11610/11610 [==============================] - 0s 29us/sample - loss: 0.4032 - acc: 0.0031 - val_loss: 0.4081 - val_acc: 0.0023\n",
      "Epoch 4/100\n",
      "11610/11610 [==============================] - 0s 29us/sample - loss: 0.3825 - acc: 0.0031 - val_loss: 0.3960 - val_acc: 0.0023\n",
      "Epoch 5/100\n",
      "11610/11610 [==============================] - 0s 29us/sample - loss: 0.3667 - acc: 0.0031 - val_loss: 0.3729 - val_acc: 0.0023\n",
      "Epoch 6/100\n",
      "11610/11610 [==============================] - 0s 29us/sample - loss: 0.3567 - acc: 0.0031 - val_loss: 0.3615 - val_acc: 0.0023\n",
      "Epoch 7/100\n",
      "11610/11610 [==============================] - 0s 29us/sample - loss: 0.3500 - acc: 0.0031 - val_loss: 0.3501 - val_acc: 0.0023\n",
      "Epoch 8/100\n",
      "11610/11610 [==============================] - 0s 30us/sample - loss: 0.3424 - acc: 0.0030 - val_loss: 0.3431 - val_acc: 0.0023\n",
      "Epoch 9/100\n",
      "11610/11610 [==============================] - 0s 28us/sample - loss: 0.3428 - acc: 0.0030 - val_loss: 0.3395 - val_acc: 0.0023\n",
      "Epoch 10/100\n",
      "11610/11610 [==============================] - 0s 29us/sample - loss: 0.3404 - acc: 0.0030 - val_loss: 0.3384 - val_acc: 0.0023\n",
      "Epoch 11/100\n",
      "11610/11610 [==============================] - 0s 28us/sample - loss: 0.3273 - acc: 0.0031 - val_loss: 0.3340 - val_acc: 0.0023\n",
      "Epoch 12/100\n",
      "11610/11610 [==============================] - 0s 28us/sample - loss: 0.3184 - acc: 0.0031 - val_loss: 0.3333 - val_acc: 0.0023\n",
      "Epoch 13/100\n",
      "11610/11610 [==============================] - 0s 27us/sample - loss: 0.3145 - acc: 0.0031 - val_loss: 0.3648 - val_acc: 0.0023\n",
      "Epoch 14/100\n",
      "11610/11610 [==============================] - 0s 32us/sample - loss: 0.3155 - acc: 0.0031 - val_loss: 0.3234 - val_acc: 0.0023\n",
      "Epoch 15/100\n",
      "11610/11610 [==============================] - 0s 30us/sample - loss: 0.3079 - acc: 0.0031 - val_loss: 0.3211 - val_acc: 0.0023\n",
      "Epoch 16/100\n",
      "11610/11610 [==============================] - 0s 29us/sample - loss: 0.3111 - acc: 0.0030 - val_loss: 0.3243 - val_acc: 0.0023\n",
      "Epoch 17/100\n",
      "11610/11610 [==============================] - 0s 32us/sample - loss: 0.3080 - acc: 0.0031 - val_loss: 0.3225 - val_acc: 0.0023\n",
      "Epoch 18/100\n",
      "11610/11610 [==============================] - 0s 32us/sample - loss: 0.2986 - acc: 0.0031 - val_loss: 0.3126 - val_acc: 0.0023\n",
      "Epoch 19/100\n",
      "11610/11610 [==============================] - 0s 30us/sample - loss: 0.2964 - acc: 0.0031 - val_loss: 0.3128 - val_acc: 0.0023\n",
      "Epoch 20/100\n",
      "11610/11610 [==============================] - 0s 30us/sample - loss: 0.2956 - acc: 0.0030 - val_loss: 0.3112 - val_acc: 0.0023\n",
      "Epoch 21/100\n",
      "11610/11610 [==============================] - 0s 30us/sample - loss: 0.3023 - acc: 0.0031 - val_loss: 0.3138 - val_acc: 0.0023\n",
      "Epoch 22/100\n",
      "11610/11610 [==============================] - 0s 31us/sample - loss: 0.3005 - acc: 0.0030 - val_loss: 0.3088 - val_acc: 0.0023\n",
      "Epoch 23/100\n",
      "11610/11610 [==============================] - 0s 32us/sample - loss: 0.2903 - acc: 0.0031 - val_loss: 0.3085 - val_acc: 0.0023\n",
      "Epoch 24/100\n",
      "11610/11610 [==============================] - 0s 32us/sample - loss: 0.2881 - acc: 0.0030 - val_loss: 0.3190 - val_acc: 0.0023\n",
      "Epoch 25/100\n",
      "11610/11610 [==============================] - 0s 30us/sample - loss: 0.2880 - acc: 0.0031 - val_loss: 0.3133 - val_acc: 0.0023\n",
      "Epoch 26/100\n",
      "11610/11610 [==============================] - 0s 29us/sample - loss: 0.2866 - acc: 0.0031 - val_loss: 0.3039 - val_acc: 0.0023\n",
      "Epoch 27/100\n",
      "11610/11610 [==============================] - 0s 30us/sample - loss: 0.2870 - acc: 0.0031 - val_loss: 0.3106 - val_acc: 0.0023\n",
      "Epoch 28/100\n",
      "11610/11610 [==============================] - 0s 32us/sample - loss: 0.2932 - acc: 0.0031 - val_loss: 0.3056 - val_acc: 0.0023\n",
      "Epoch 29/100\n",
      "11610/11610 [==============================] - 0s 31us/sample - loss: 0.2853 - acc: 0.0031 - val_loss: 0.3035 - val_acc: 0.0023\n",
      "Epoch 30/100\n",
      "11610/11610 [==============================] - 0s 28us/sample - loss: 0.2888 - acc: 0.0031 - val_loss: 0.3068 - val_acc: 0.0023\n",
      "Epoch 31/100\n",
      "11610/11610 [==============================] - 0s 29us/sample - loss: 0.2852 - acc: 0.0031 - val_loss: 0.3029 - val_acc: 0.0023\n",
      "Epoch 32/100\n",
      "11610/11610 [==============================] - 0s 30us/sample - loss: 0.2793 - acc: 0.0031 - val_loss: 0.3024 - val_acc: 0.0023\n",
      "Epoch 33/100\n",
      "11610/11610 [==============================] - 0s 31us/sample - loss: 0.2802 - acc: 0.0031 - val_loss: 0.3019 - val_acc: 0.0023\n",
      "Epoch 34/100\n",
      "11610/11610 [==============================] - 0s 28us/sample - loss: 0.2825 - acc: 0.0031 - val_loss: 0.3006 - val_acc: 0.0023\n",
      "Epoch 35/100\n",
      "11610/11610 [==============================] - 0s 31us/sample - loss: 0.2772 - acc: 0.0031 - val_loss: 0.2976 - val_acc: 0.0023\n",
      "Epoch 36/100\n",
      "11610/11610 [==============================] - 0s 29us/sample - loss: 0.2770 - acc: 0.0030 - val_loss: 0.3103 - val_acc: 0.0023\n",
      "Epoch 37/100\n",
      "11610/11610 [==============================] - 0s 29us/sample - loss: 0.2780 - acc: 0.0031 - val_loss: 0.2945 - val_acc: 0.0023\n",
      "Epoch 38/100\n",
      "11610/11610 [==============================] - 0s 29us/sample - loss: 0.2739 - acc: 0.0030 - val_loss: 0.2953 - val_acc: 0.0023\n",
      "Epoch 39/100\n",
      "11610/11610 [==============================] - 0s 29us/sample - loss: 0.2769 - acc: 0.0031 - val_loss: 0.2990 - val_acc: 0.0023\n",
      "Epoch 40/100\n",
      "11610/11610 [==============================] - 0s 32us/sample - loss: 0.2800 - acc: 0.0031 - val_loss: 0.2920 - val_acc: 0.0023\n",
      "Epoch 41/100\n",
      "11610/11610 [==============================] - 0s 29us/sample - loss: 0.2721 - acc: 0.0030 - val_loss: 0.2976 - val_acc: 0.0023\n",
      "Epoch 42/100\n",
      "11610/11610 [==============================] - 0s 27us/sample - loss: 0.2711 - acc: 0.0031 - val_loss: 0.3019 - val_acc: 0.0023\n",
      "Epoch 43/100\n",
      "11610/11610 [==============================] - 0s 28us/sample - loss: 0.2734 - acc: 0.0031 - val_loss: 0.2951 - val_acc: 0.0023\n",
      "Epoch 44/100\n",
      "11610/11610 [==============================] - 0s 29us/sample - loss: 0.2715 - acc: 0.0030 - val_loss: 0.2912 - val_acc: 0.0023\n",
      "Epoch 45/100\n",
      "11610/11610 [==============================] - 0s 28us/sample - loss: 0.2713 - acc: 0.0030 - val_loss: 0.2906 - val_acc: 0.0023\n",
      "Epoch 46/100\n",
      "11610/11610 [==============================] - 0s 28us/sample - loss: 0.2687 - acc: 0.0031 - val_loss: 0.3004 - val_acc: 0.0023\n",
      "Epoch 47/100\n",
      "11610/11610 [==============================] - 0s 31us/sample - loss: 0.2689 - acc: 0.0031 - val_loss: 0.2938 - val_acc: 0.0023\n",
      "Epoch 48/100\n",
      "11610/11610 [==============================] - 0s 28us/sample - loss: 0.2714 - acc: 0.0030 - val_loss: 0.2968 - val_acc: 0.0023\n",
      "Epoch 49/100\n",
      "11610/11610 [==============================] - 0s 28us/sample - loss: 0.2776 - acc: 0.0030 - val_loss: 0.2901 - val_acc: 0.0023\n",
      "Epoch 50/100\n",
      "11610/11610 [==============================] - 0s 27us/sample - loss: 0.2682 - acc: 0.0031 - val_loss: 0.2920 - val_acc: 0.0023\n"
     ]
    }
   ],
   "source": [
    "history = model.fit(x_train_scaled,y_train,validation_data=(x_valid_scaled,y_valid) ,epochs=100,callbacks=callbacks)"
   ]
  },
  {
   "cell_type": "code",
   "execution_count": 10,
   "metadata": {},
   "outputs": [
    {
     "data": {
      "image/png": "[encoded data removed]",
      "text/plain": [
       "<Figure size 576x360 with 1 Axes>"
      ]
     },
     "metadata": {
      "needs_background": "light"
     },
     "output_type": "display_data"
    }
   ],
   "source": [
    "def plot_learning_curves(history):\n",
    "    pd.DataFrame(history.history).plot(figsize=(8,5))\n",
    "    plt.grid(True)\n",
    "    plt.gca().set_ylim(0,1)\n",
    "plot_learning_curves(history)"
   ]
  },
  {
   "cell_type": "code",
   "execution_count": 11,
   "metadata": {},
   "outputs": [
    {
     "name": "stdout",
     "output_type": "stream",
     "text": [
      "5160/5160 [==============================] - 0s 15us/sample - loss: 0.2974 - acc: 0.0033\n"
     ]
    },
    {
     "data": {
      "text/plain": [
       "[0.2974404213040374, 0.0032945736]"
      ]
     },
     "execution_count": 11,
     "metadata": {},
     "output_type": "execute_result"
    }
   ],
   "source": [
    "model.evaluate(x_test_scaled,y_test)"
   ]
  },
  {
   "cell_type": "code",
   "execution_count": null,
   "metadata": {},
   "outputs": [],
   "source": []
  }
 ],
 "metadata": {
  "kernelspec": {
   "display_name": "Python 3",
   "language": "python",
   "name": "python3"
  },
  "language_info": {
   "codemirror_mode": {
    "name": "ipython",
    "version": 3
   },
   "file_extension": ".py",
   "mimetype": "text/x-python",
   "name": "python",
   "nbconvert_exporter": "python",
   "pygments_lexer": "ipython3",
   "version": "3.7.3"
  },
  "toc": {
   "base_numbering": 1,
   "nav_menu": {},
   "number_sections": true,
   "sideBar": true,
   "skip_h1_title": false,
   "title_cell": "Table of Contents",
   "title_sidebar": "Contents",
   "toc_cell": false,
   "toc_position": {},
   "toc_section_display": true,
   "toc_window_display": false
  }
 },
 "nbformat": 4,
 "nbformat_minor": 2
}
